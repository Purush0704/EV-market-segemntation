{
 "cells": [
  {
   "cell_type": "markdown",
   "id": "6de17aa9",
   "metadata": {},
   "source": [
    "# Electric Vehicle DataAnalysis"
   ]
  },
  {
   "cell_type": "code",
   "execution_count": 1,
   "id": "1590dc28",
   "metadata": {},
   "outputs": [],
   "source": [
    "import numpy as np\n",
    "import pandas as pd\n",
    "import seaborn as sns\n",
    "import matplotlib.pyplot as plt\n",
    "import sklearn\n",
    "from sklearn.preprocessing import LabelEncoder\n",
    "%matplotlib inline\n",
    "import warnings\n",
    "warnings.filterwarnings('ignore')"
   ]
  },
  {
   "cell_type": "code",
   "execution_count": 2,
   "id": "ae4a7c47",
   "metadata": {
    "scrolled": false
   },
   "outputs": [],
   "source": [
    "df_Original = pd.read_csv(r\"C:\\Users\\user\\Downloads\\New folder\\Electric Vehicle Dataset.csv\")\n",
    "pd.set_option('display.float_format', lambda x: '%.3f' % x)\n",
    "df = df_Original.copy()"
   ]
  },
  {
   "cell_type": "code",
   "execution_count": 3,
   "id": "2f5be872",
   "metadata": {},
   "outputs": [
    {
     "data": {
      "text/html": [
       "<div>\n",
       "<style scoped>\n",
       "    .dataframe tbody tr th:only-of-type {\n",
       "        vertical-align: middle;\n",
       "    }\n",
       "\n",
       "    .dataframe tbody tr th {\n",
       "        vertical-align: top;\n",
       "    }\n",
       "\n",
       "    .dataframe thead th {\n",
       "        text-align: right;\n",
       "    }\n",
       "</style>\n",
       "<table border=\"1\" class=\"dataframe\">\n",
       "  <thead>\n",
       "    <tr style=\"text-align: right;\">\n",
       "      <th></th>\n",
       "      <th>Unnamed:</th>\n",
       "      <th>Age</th>\n",
       "      <th>City</th>\n",
       "      <th>Profession</th>\n",
       "      <th>Marital Status</th>\n",
       "      <th>Education</th>\n",
       "      <th>No. of Family members</th>\n",
       "      <th>Annual Income</th>\n",
       "      <th>Would you prefer replacing all your vehicles to Electronic vehicles?</th>\n",
       "      <th>If Yes/Maybe what type of EV would you prefer?</th>\n",
       "      <th>Do you think Electronic Vehicles are economical?</th>\n",
       "      <th>Which brand of vehicle do you currently own?</th>\n",
       "      <th>How much money could you spend on an Electronic vehicle?</th>\n",
       "      <th>Preference for wheels in EV</th>\n",
       "      <th>Do you think Electronic vehicles will replace fuel cars in India?</th>\n",
       "    </tr>\n",
       "  </thead>\n",
       "  <tbody>\n",
       "    <tr>\n",
       "      <th>0</th>\n",
       "      <td>0</td>\n",
       "      <td>30</td>\n",
       "      <td>Nabha</td>\n",
       "      <td>None</td>\n",
       "      <td>Single</td>\n",
       "      <td>Graduate</td>\n",
       "      <td>5</td>\n",
       "      <td>1193875.647</td>\n",
       "      <td>Maybe</td>\n",
       "      <td>SUV</td>\n",
       "      <td>Yes</td>\n",
       "      <td>Hyundai</td>\n",
       "      <td>&lt;5 lakhs</td>\n",
       "      <td>2</td>\n",
       "      <td>I don't think so</td>\n",
       "    </tr>\n",
       "    <tr>\n",
       "      <th>1</th>\n",
       "      <td>1</td>\n",
       "      <td>27</td>\n",
       "      <td>Pune</td>\n",
       "      <td>None</td>\n",
       "      <td>Single</td>\n",
       "      <td>Graduate</td>\n",
       "      <td>4</td>\n",
       "      <td>1844540.398</td>\n",
       "      <td>Yes</td>\n",
       "      <td>SUV</td>\n",
       "      <td>Yes</td>\n",
       "      <td>Honda</td>\n",
       "      <td>&lt;15 lakhs</td>\n",
       "      <td>4</td>\n",
       "      <td>Yes, in &lt;20years</td>\n",
       "    </tr>\n",
       "    <tr>\n",
       "      <th>2</th>\n",
       "      <td>2</td>\n",
       "      <td>32</td>\n",
       "      <td>Kashipur</td>\n",
       "      <td>None</td>\n",
       "      <td>Single</td>\n",
       "      <td>Graduate</td>\n",
       "      <td>4</td>\n",
       "      <td>2948150.113</td>\n",
       "      <td>Yes</td>\n",
       "      <td>Hatchback</td>\n",
       "      <td>Yes</td>\n",
       "      <td>KIA</td>\n",
       "      <td>&lt;15 lakhs</td>\n",
       "      <td>4</td>\n",
       "      <td>Yes, in &lt;20years</td>\n",
       "    </tr>\n",
       "    <tr>\n",
       "      <th>3</th>\n",
       "      <td>3</td>\n",
       "      <td>55</td>\n",
       "      <td>Pune</td>\n",
       "      <td>Business</td>\n",
       "      <td>Single</td>\n",
       "      <td>Graduate</td>\n",
       "      <td>3</td>\n",
       "      <td>2832379.739</td>\n",
       "      <td>Maybe</td>\n",
       "      <td>Hatchback</td>\n",
       "      <td>No</td>\n",
       "      <td>Hyundai</td>\n",
       "      <td>&lt;5 lakhs</td>\n",
       "      <td>4</td>\n",
       "      <td>Yes, in &lt;10 years</td>\n",
       "    </tr>\n",
       "    <tr>\n",
       "      <th>4</th>\n",
       "      <td>4</td>\n",
       "      <td>26</td>\n",
       "      <td>Satara</td>\n",
       "      <td>None</td>\n",
       "      <td>Single</td>\n",
       "      <td>Graduate</td>\n",
       "      <td>4</td>\n",
       "      <td>2638750.576</td>\n",
       "      <td>Yes</td>\n",
       "      <td>Sedan</td>\n",
       "      <td>Yes</td>\n",
       "      <td>McLaren</td>\n",
       "      <td>&lt;15 lakhs</td>\n",
       "      <td>4</td>\n",
       "      <td>Yes, in &lt;20years</td>\n",
       "    </tr>\n",
       "  </tbody>\n",
       "</table>\n",
       "</div>"
      ],
      "text/plain": [
       "   Unnamed:   Age      City Profession Marital Status Education  \\\n",
       "0          0   30     Nabha       None         Single  Graduate   \n",
       "1          1   27      Pune       None         Single  Graduate   \n",
       "2          2   32  Kashipur       None         Single  Graduate   \n",
       "3          3   55      Pune   Business         Single  Graduate   \n",
       "4          4   26    Satara       None         Single  Graduate   \n",
       "\n",
       "   No. of Family members  Annual Income  \\\n",
       "0                      5    1193875.647   \n",
       "1                      4    1844540.398   \n",
       "2                      4    2948150.113   \n",
       "3                      3    2832379.739   \n",
       "4                      4    2638750.576   \n",
       "\n",
       "  Would you prefer replacing all your vehicles to Electronic vehicles?  \\\n",
       "0                                              Maybe                     \n",
       "1                                                Yes                     \n",
       "2                                                Yes                     \n",
       "3                                              Maybe                     \n",
       "4                                                Yes                     \n",
       "\n",
       "  If Yes/Maybe what type of EV would you prefer?  \\\n",
       "0                                            SUV   \n",
       "1                                            SUV   \n",
       "2                                      Hatchback   \n",
       "3                                      Hatchback   \n",
       "4                                          Sedan   \n",
       "\n",
       "  Do you think Electronic Vehicles are economical?  \\\n",
       "0                                              Yes   \n",
       "1                                              Yes   \n",
       "2                                              Yes   \n",
       "3                                               No   \n",
       "4                                              Yes   \n",
       "\n",
       "  Which brand of vehicle do you currently own?  \\\n",
       "0                                      Hyundai   \n",
       "1                                        Honda   \n",
       "2                                          KIA   \n",
       "3                                      Hyundai   \n",
       "4                                      McLaren   \n",
       "\n",
       "  How much money could you spend on an Electronic vehicle?  \\\n",
       "0                                           <5 lakhs         \n",
       "1                                          <15 lakhs         \n",
       "2                                          <15 lakhs         \n",
       "3                                           <5 lakhs         \n",
       "4                                          <15 lakhs         \n",
       "\n",
       "   Preference for wheels in EV  \\\n",
       "0                            2   \n",
       "1                            4   \n",
       "2                            4   \n",
       "3                            4   \n",
       "4                            4   \n",
       "\n",
       "  Do you think Electronic vehicles will replace fuel cars in India?  \n",
       "0                                   I don't think so                 \n",
       "1                                   Yes, in <20years                 \n",
       "2                                   Yes, in <20years                 \n",
       "3                                  Yes, in <10 years                 \n",
       "4                                   Yes, in <20years                 "
      ]
     },
     "execution_count": 3,
     "metadata": {},
     "output_type": "execute_result"
    }
   ],
   "source": [
    "df.head()"
   ]
  },
  {
   "cell_type": "code",
   "execution_count": 4,
   "id": "74581047",
   "metadata": {},
   "outputs": [
    {
     "data": {
      "text/html": [
       "<div>\n",
       "<style scoped>\n",
       "    .dataframe tbody tr th:only-of-type {\n",
       "        vertical-align: middle;\n",
       "    }\n",
       "\n",
       "    .dataframe tbody tr th {\n",
       "        vertical-align: top;\n",
       "    }\n",
       "\n",
       "    .dataframe thead th {\n",
       "        text-align: right;\n",
       "    }\n",
       "</style>\n",
       "<table border=\"1\" class=\"dataframe\">\n",
       "  <thead>\n",
       "    <tr style=\"text-align: right;\">\n",
       "      <th></th>\n",
       "      <th>Unnamed:</th>\n",
       "      <th>Age</th>\n",
       "      <th>City</th>\n",
       "      <th>Profession</th>\n",
       "      <th>Marital Status</th>\n",
       "      <th>Education</th>\n",
       "      <th>No. of Family members</th>\n",
       "      <th>Annual Income</th>\n",
       "      <th>Would you prefer replacing all your vehicles to Electronic vehicles?</th>\n",
       "      <th>If Yes/Maybe what type of EV would you prefer?</th>\n",
       "      <th>Do you think Electronic Vehicles are economical?</th>\n",
       "      <th>Which brand of vehicle do you currently own?</th>\n",
       "      <th>How much money could you spend on an Electronic vehicle?</th>\n",
       "      <th>Preference for wheels in EV</th>\n",
       "      <th>Do you think Electronic vehicles will replace fuel cars in India?</th>\n",
       "    </tr>\n",
       "  </thead>\n",
       "  <tbody>\n",
       "    <tr>\n",
       "      <th>995</th>\n",
       "      <td>995</td>\n",
       "      <td>31</td>\n",
       "      <td>Pune</td>\n",
       "      <td>None</td>\n",
       "      <td>Married</td>\n",
       "      <td>Graduate</td>\n",
       "      <td>7</td>\n",
       "      <td>2110722.120</td>\n",
       "      <td>Yes</td>\n",
       "      <td>SUV</td>\n",
       "      <td>Yes</td>\n",
       "      <td>KIA</td>\n",
       "      <td>&lt;25 lakhs</td>\n",
       "      <td>4</td>\n",
       "      <td>Yes, in &lt;10 years</td>\n",
       "    </tr>\n",
       "    <tr>\n",
       "      <th>996</th>\n",
       "      <td>996</td>\n",
       "      <td>29</td>\n",
       "      <td>Pune</td>\n",
       "      <td>None</td>\n",
       "      <td>Married</td>\n",
       "      <td>Post Graduate</td>\n",
       "      <td>4</td>\n",
       "      <td>1616287.706</td>\n",
       "      <td>No</td>\n",
       "      <td>SUV</td>\n",
       "      <td>Yes</td>\n",
       "      <td>KIA</td>\n",
       "      <td>&lt;5 lakhs</td>\n",
       "      <td>4</td>\n",
       "      <td>Yes, in &lt;20years</td>\n",
       "    </tr>\n",
       "    <tr>\n",
       "      <th>997</th>\n",
       "      <td>997</td>\n",
       "      <td>30</td>\n",
       "      <td>Mumbai</td>\n",
       "      <td>Business</td>\n",
       "      <td>Single</td>\n",
       "      <td>Graduate</td>\n",
       "      <td>4</td>\n",
       "      <td>2202829.029</td>\n",
       "      <td>Yes</td>\n",
       "      <td>SUV</td>\n",
       "      <td>Yes</td>\n",
       "      <td>Honda</td>\n",
       "      <td>&lt;15 lakhs</td>\n",
       "      <td>4</td>\n",
       "      <td>Yes, in &lt;20years</td>\n",
       "    </tr>\n",
       "    <tr>\n",
       "      <th>998</th>\n",
       "      <td>998</td>\n",
       "      <td>24</td>\n",
       "      <td>Ahmedabad</td>\n",
       "      <td>None</td>\n",
       "      <td>Married</td>\n",
       "      <td>Graduate</td>\n",
       "      <td>4</td>\n",
       "      <td>1764744.068</td>\n",
       "      <td>Yes</td>\n",
       "      <td>SUV</td>\n",
       "      <td>Yes</td>\n",
       "      <td>Maruti</td>\n",
       "      <td>&lt;15 lakhs</td>\n",
       "      <td>4</td>\n",
       "      <td>Yes, in &lt;20years</td>\n",
       "    </tr>\n",
       "    <tr>\n",
       "      <th>999</th>\n",
       "      <td>999</td>\n",
       "      <td>30</td>\n",
       "      <td>Pune</td>\n",
       "      <td>Business</td>\n",
       "      <td>Single</td>\n",
       "      <td>Graduate</td>\n",
       "      <td>4</td>\n",
       "      <td>2486664.468</td>\n",
       "      <td>No</td>\n",
       "      <td>Liftback</td>\n",
       "      <td>Yes</td>\n",
       "      <td>Maruti</td>\n",
       "      <td>&lt;5 lakhs</td>\n",
       "      <td>4</td>\n",
       "      <td>Yes, in &lt;10 years</td>\n",
       "    </tr>\n",
       "  </tbody>\n",
       "</table>\n",
       "</div>"
      ],
      "text/plain": [
       "     Unnamed:   Age       City Profession Marital Status      Education  \\\n",
       "995        995   31       Pune       None        Married       Graduate   \n",
       "996        996   29       Pune       None        Married  Post Graduate   \n",
       "997        997   30     Mumbai   Business         Single       Graduate   \n",
       "998        998   24  Ahmedabad       None        Married       Graduate   \n",
       "999        999   30       Pune   Business         Single       Graduate   \n",
       "\n",
       "     No. of Family members  Annual Income  \\\n",
       "995                      7    2110722.120   \n",
       "996                      4    1616287.706   \n",
       "997                      4    2202829.029   \n",
       "998                      4    1764744.068   \n",
       "999                      4    2486664.468   \n",
       "\n",
       "    Would you prefer replacing all your vehicles to Electronic vehicles?  \\\n",
       "995                                                Yes                     \n",
       "996                                                 No                     \n",
       "997                                                Yes                     \n",
       "998                                                Yes                     \n",
       "999                                                 No                     \n",
       "\n",
       "    If Yes/Maybe what type of EV would you prefer?  \\\n",
       "995                                            SUV   \n",
       "996                                            SUV   \n",
       "997                                            SUV   \n",
       "998                                            SUV   \n",
       "999                                       Liftback   \n",
       "\n",
       "    Do you think Electronic Vehicles are economical?  \\\n",
       "995                                              Yes   \n",
       "996                                              Yes   \n",
       "997                                              Yes   \n",
       "998                                              Yes   \n",
       "999                                              Yes   \n",
       "\n",
       "    Which brand of vehicle do you currently own?  \\\n",
       "995                                          KIA   \n",
       "996                                          KIA   \n",
       "997                                        Honda   \n",
       "998                                       Maruti   \n",
       "999                                       Maruti   \n",
       "\n",
       "    How much money could you spend on an Electronic vehicle?  \\\n",
       "995                                          <25 lakhs         \n",
       "996                                           <5 lakhs         \n",
       "997                                          <15 lakhs         \n",
       "998                                          <15 lakhs         \n",
       "999                                           <5 lakhs         \n",
       "\n",
       "     Preference for wheels in EV  \\\n",
       "995                            4   \n",
       "996                            4   \n",
       "997                            4   \n",
       "998                            4   \n",
       "999                            4   \n",
       "\n",
       "    Do you think Electronic vehicles will replace fuel cars in India?  \n",
       "995                                  Yes, in <10 years                 \n",
       "996                                   Yes, in <20years                 \n",
       "997                                   Yes, in <20years                 \n",
       "998                                   Yes, in <20years                 \n",
       "999                                  Yes, in <10 years                 "
      ]
     },
     "execution_count": 4,
     "metadata": {},
     "output_type": "execute_result"
    }
   ],
   "source": [
    "df.tail()"
   ]
  },
  {
   "cell_type": "markdown",
   "id": "cc080b07",
   "metadata": {},
   "source": [
    "#### Data Processing"
   ]
  },
  {
   "cell_type": "code",
   "execution_count": 5,
   "id": "fcd67807",
   "metadata": {
    "scrolled": true
   },
   "outputs": [
    {
     "data": {
      "text/plain": [
       "Unnamed:                                                                0\n",
       "Age                                                                     0\n",
       "City                                                                    0\n",
       "Profession                                                              0\n",
       "Marital Status                                                          0\n",
       "Education                                                               0\n",
       "No. of Family members                                                   0\n",
       "Annual Income                                                           0\n",
       "Would you prefer replacing all your vehicles to Electronic vehicles?    0\n",
       "If Yes/Maybe what type of EV would you prefer?                          0\n",
       "Do you think Electronic Vehicles are economical?                        0\n",
       "Which brand of vehicle do you currently own?                            0\n",
       "How much money could you spend on an Electronic vehicle?                0\n",
       "Preference for wheels in EV                                             0\n",
       "Do you think Electronic vehicles will replace fuel cars in India?       0\n",
       "dtype: int64"
      ]
     },
     "execution_count": 5,
     "metadata": {},
     "output_type": "execute_result"
    }
   ],
   "source": [
    "df.isnull().sum()"
   ]
  },
  {
   "cell_type": "code",
   "execution_count": 112,
   "id": "63aa7dcc",
   "metadata": {},
   "outputs": [
    {
     "data": {
      "text/plain": [
       "Index(['Unnamed: ', 'Age', 'City', 'Profession', 'Marital Status', 'Education',\n",
       "       'No. of Family members', 'Annual Income',\n",
       "       'Would you prefer replacing all your vehicles to Electronic vehicles?',\n",
       "       'If Yes/Maybe what type of EV would you prefer?',\n",
       "       'Do you think Electronic Vehicles are economical?',\n",
       "       'Which brand of vehicle do you currently own?',\n",
       "       'How much money could you spend on an Electronic vehicle?',\n",
       "       'Preference for wheels in EV',\n",
       "       'Do you think Electronic vehicles will replace fuel cars in India?'],\n",
       "      dtype='object')"
      ]
     },
     "execution_count": 112,
     "metadata": {},
     "output_type": "execute_result"
    }
   ],
   "source": [
    "df.columns"
   ]
  },
  {
   "cell_type": "code",
   "execution_count": 6,
   "id": "2fe4756e",
   "metadata": {},
   "outputs": [
    {
     "data": {
      "text/plain": [
       "(1000, 15)"
      ]
     },
     "execution_count": 6,
     "metadata": {},
     "output_type": "execute_result"
    }
   ],
   "source": [
    "df.shape"
   ]
  },
  {
   "cell_type": "code",
   "execution_count": 114,
   "id": "27655036",
   "metadata": {},
   "outputs": [
    {
     "data": {
      "text/plain": [
       "0      False\n",
       "1      False\n",
       "2      False\n",
       "3      False\n",
       "4      False\n",
       "       ...  \n",
       "995    False\n",
       "996    False\n",
       "997    False\n",
       "998    False\n",
       "999    False\n",
       "Length: 1000, dtype: bool"
      ]
     },
     "execution_count": 114,
     "metadata": {},
     "output_type": "execute_result"
    }
   ],
   "source": [
    "df.duplicated()"
   ]
  },
  {
   "cell_type": "code",
   "execution_count": 115,
   "id": "cde6b4cb",
   "metadata": {},
   "outputs": [
    {
     "data": {
      "text/html": [
       "<div>\n",
       "<style scoped>\n",
       "    .dataframe tbody tr th:only-of-type {\n",
       "        vertical-align: middle;\n",
       "    }\n",
       "\n",
       "    .dataframe tbody tr th {\n",
       "        vertical-align: top;\n",
       "    }\n",
       "\n",
       "    .dataframe thead th {\n",
       "        text-align: right;\n",
       "    }\n",
       "</style>\n",
       "<table border=\"1\" class=\"dataframe\">\n",
       "  <thead>\n",
       "    <tr style=\"text-align: right;\">\n",
       "      <th></th>\n",
       "      <th>Unnamed:</th>\n",
       "      <th>Age</th>\n",
       "      <th>No. of Family members</th>\n",
       "      <th>Annual Income</th>\n",
       "      <th>Preference for wheels in EV</th>\n",
       "    </tr>\n",
       "  </thead>\n",
       "  <tbody>\n",
       "    <tr>\n",
       "      <th>Unnamed:</th>\n",
       "      <td>1.000</td>\n",
       "      <td>-0.004</td>\n",
       "      <td>0.009</td>\n",
       "      <td>-0.011</td>\n",
       "      <td>-0.023</td>\n",
       "    </tr>\n",
       "    <tr>\n",
       "      <th>Age</th>\n",
       "      <td>-0.004</td>\n",
       "      <td>1.000</td>\n",
       "      <td>0.024</td>\n",
       "      <td>-0.012</td>\n",
       "      <td>0.028</td>\n",
       "    </tr>\n",
       "    <tr>\n",
       "      <th>No. of Family members</th>\n",
       "      <td>0.009</td>\n",
       "      <td>0.024</td>\n",
       "      <td>1.000</td>\n",
       "      <td>0.028</td>\n",
       "      <td>-0.021</td>\n",
       "    </tr>\n",
       "    <tr>\n",
       "      <th>Annual Income</th>\n",
       "      <td>-0.011</td>\n",
       "      <td>-0.012</td>\n",
       "      <td>0.028</td>\n",
       "      <td>1.000</td>\n",
       "      <td>-0.023</td>\n",
       "    </tr>\n",
       "    <tr>\n",
       "      <th>Preference for wheels in EV</th>\n",
       "      <td>-0.023</td>\n",
       "      <td>0.028</td>\n",
       "      <td>-0.021</td>\n",
       "      <td>-0.023</td>\n",
       "      <td>1.000</td>\n",
       "    </tr>\n",
       "  </tbody>\n",
       "</table>\n",
       "</div>"
      ],
      "text/plain": [
       "                             Unnamed:     Age  No. of Family members  \\\n",
       "Unnamed:                         1.000 -0.004                  0.009   \n",
       "Age                             -0.004  1.000                  0.024   \n",
       "No. of Family members            0.009  0.024                  1.000   \n",
       "Annual Income                   -0.011 -0.012                  0.028   \n",
       "Preference for wheels in EV     -0.023  0.028                 -0.021   \n",
       "\n",
       "                             Annual Income  Preference for wheels in EV  \n",
       "Unnamed:                            -0.011                       -0.023  \n",
       "Age                                 -0.012                        0.028  \n",
       "No. of Family members                0.028                       -0.021  \n",
       "Annual Income                        1.000                       -0.023  \n",
       "Preference for wheels in EV         -0.023                        1.000  "
      ]
     },
     "execution_count": 115,
     "metadata": {},
     "output_type": "execute_result"
    }
   ],
   "source": [
    "df.corr()"
   ]
  },
  {
   "cell_type": "code",
   "execution_count": 7,
   "id": "a5bfea1d",
   "metadata": {},
   "outputs": [
    {
     "name": "stdout",
     "output_type": "stream",
     "text": [
      "<class 'pandas.core.frame.DataFrame'>\n",
      "RangeIndex: 1000 entries, 0 to 999\n",
      "Data columns (total 15 columns):\n",
      " #   Column                                                                Non-Null Count  Dtype  \n",
      "---  ------                                                                --------------  -----  \n",
      " 0   Unnamed:                                                              1000 non-null   int64  \n",
      " 1   Age                                                                   1000 non-null   int64  \n",
      " 2   City                                                                  1000 non-null   object \n",
      " 3   Profession                                                            1000 non-null   object \n",
      " 4   Marital Status                                                        1000 non-null   object \n",
      " 5   Education                                                             1000 non-null   object \n",
      " 6   No. of Family members                                                 1000 non-null   int64  \n",
      " 7   Annual Income                                                         1000 non-null   float64\n",
      " 8   Would you prefer replacing all your vehicles to Electronic vehicles?  1000 non-null   object \n",
      " 9   If Yes/Maybe what type of EV would you prefer?                        1000 non-null   object \n",
      " 10  Do you think Electronic Vehicles are economical?                      1000 non-null   object \n",
      " 11  Which brand of vehicle do you currently own?                          1000 non-null   object \n",
      " 12  How much money could you spend on an Electronic vehicle?              1000 non-null   object \n",
      " 13  Preference for wheels in EV                                           1000 non-null   int64  \n",
      " 14  Do you think Electronic vehicles will replace fuel cars in India?     1000 non-null   object \n",
      "dtypes: float64(1), int64(4), object(10)\n",
      "memory usage: 117.3+ KB\n"
     ]
    }
   ],
   "source": [
    "df.info()"
   ]
  },
  {
   "cell_type": "code",
   "execution_count": 117,
   "id": "3db805c0",
   "metadata": {},
   "outputs": [
    {
     "data": {
      "text/plain": [
       "array([ 30,  27,  32,  55,  26,  28,  23,  25,  43,  59,  21,  29,  56,\n",
       "        70,  50,  24,  61,  39,  31,  40,  18,  58,  22,  96,  64,  52,\n",
       "        54,  42,  49,  57,  46,  36,  20,  19,  65,  17,  60,  44,  45,\n",
       "        47,  82,  33,  37,  48,  69,  67,  86,  62,  66,  34,  63,  41,\n",
       "        68,  16,  53,  15, 118,  38], dtype=int64)"
      ]
     },
     "execution_count": 117,
     "metadata": {},
     "output_type": "execute_result"
    }
   ],
   "source": [
    "df['Age'].unique()"
   ]
  },
  {
   "cell_type": "code",
   "execution_count": 118,
   "id": "6a50df9c",
   "metadata": {},
   "outputs": [
    {
     "data": {
      "text/plain": [
       "array(['Nabha', 'Pune', 'Kashipur', 'Satara', 'Noida', 'Delhi', 'Mumbai',\n",
       "       'pune', 'solapur', 'Haldwani', 'Nellore', 'Banglore', 'Faridabad',\n",
       "       'Nagpur', 'Chandrapur', 'Chennai', 'Gurugram', 'Nashik',\n",
       "       'Bengaluru', 'Hakdwani', 'Patiyala', 'pUNE', 'Ahmedabad', 'Karnal',\n",
       "       'Rewari', 'New Delhi', 'Serampore', 'Jhansi', 'Jalandhar',\n",
       "       'nashik'], dtype=object)"
      ]
     },
     "execution_count": 118,
     "metadata": {},
     "output_type": "execute_result"
    }
   ],
   "source": [
    "df['City'].unique()"
   ]
  },
  {
   "cell_type": "code",
   "execution_count": 85,
   "id": "b527655f",
   "metadata": {
    "scrolled": true
   },
   "outputs": [],
   "source": [
    "df[\"City\"] = df[\"City\"].replace({\"Pune\":\"Pune\", \"pUNE\": \"Pune\", \"pune\": \"Pune\", \"Pune \": \"Pune\"})\n",
    "df[\"City\"] = df[\"City\"].replace({\"Mumbai \":\"Mumbai\", \"Mumbai\": \"Mumbai\"})\n",
    "df[\"City\"] = df[\"City\"].replace({\"Banglore \":\"Bengaluru\"})\n",
    "df[\"City\"] = df[\"City\"].replace({\"Delhi\":\"New Delhi\", \"Delhi \": \"New Delhi\", \"New Delhi \": \"New Delhi\"})\n",
    "df[\"City\"] = df[\"City\"].replace({\"Hakdwani\":\"Haldwani\", \"Haldwani \": \"Haldwani\"})\n",
    "df[\"City\"] = df[\"City\"].replace({\"nashik\":\"Nashik\"})\n"
   ]
  },
  {
   "cell_type": "code",
   "execution_count": 86,
   "id": "1691fe77",
   "metadata": {},
   "outputs": [
    {
     "data": {
      "text/plain": [
       "array([5, 4, 3, 2, 8, 6, 0, 1, 7], dtype=int64)"
      ]
     },
     "execution_count": 86,
     "metadata": {},
     "output_type": "execute_result"
    }
   ],
   "source": [
    "df['No. of Family members'].unique()"
   ]
  },
  {
   "cell_type": "code",
   "execution_count": 87,
   "id": "f801c6a7",
   "metadata": {},
   "outputs": [
    {
     "data": {
      "text/plain": [
       "array(['<5 lakhs', '<15 lakhs', '<25 lakhs', '700000', '>25 lakhs',\n",
       "       '2000000', '1200000', '1500000'], dtype=object)"
      ]
     },
     "execution_count": 87,
     "metadata": {},
     "output_type": "execute_result"
    }
   ],
   "source": [
    "df['How much money could you spend on an Electronic vehicle?'].unique()"
   ]
  },
  {
   "cell_type": "code",
   "execution_count": 119,
   "id": "a40b9bd6",
   "metadata": {},
   "outputs": [],
   "source": [
    "df.drop('Unnamed: ', axis=1, inplace = True)\n"
   ]
  },
  {
   "cell_type": "code",
   "execution_count": 124,
   "id": "98b2ad6c",
   "metadata": {},
   "outputs": [
    {
     "data": {
      "text/html": [
       "<div>\n",
       "<style scoped>\n",
       "    .dataframe tbody tr th:only-of-type {\n",
       "        vertical-align: middle;\n",
       "    }\n",
       "\n",
       "    .dataframe tbody tr th {\n",
       "        vertical-align: top;\n",
       "    }\n",
       "\n",
       "    .dataframe thead th {\n",
       "        text-align: right;\n",
       "    }\n",
       "</style>\n",
       "<table border=\"1\" class=\"dataframe\">\n",
       "  <thead>\n",
       "    <tr style=\"text-align: right;\">\n",
       "      <th></th>\n",
       "      <th>Age</th>\n",
       "      <th>No. of Family members</th>\n",
       "      <th>Annual Income</th>\n",
       "      <th>Preference for wheels in EV</th>\n",
       "    </tr>\n",
       "  </thead>\n",
       "  <tbody>\n",
       "    <tr>\n",
       "      <th>count</th>\n",
       "      <td>1000.000</td>\n",
       "      <td>1000.000</td>\n",
       "      <td>1000.000</td>\n",
       "      <td>1000.000</td>\n",
       "    </tr>\n",
       "    <tr>\n",
       "      <th>mean</th>\n",
       "      <td>31.800</td>\n",
       "      <td>4.118</td>\n",
       "      <td>2258341.824</td>\n",
       "      <td>3.349</td>\n",
       "    </tr>\n",
       "    <tr>\n",
       "      <th>std</th>\n",
       "      <td>11.295</td>\n",
       "      <td>1.470</td>\n",
       "      <td>999355.758</td>\n",
       "      <td>0.888</td>\n",
       "    </tr>\n",
       "    <tr>\n",
       "      <th>min</th>\n",
       "      <td>15.000</td>\n",
       "      <td>0.000</td>\n",
       "      <td>-376150.863</td>\n",
       "      <td>2.000</td>\n",
       "    </tr>\n",
       "    <tr>\n",
       "      <th>25%</th>\n",
       "      <td>26.000</td>\n",
       "      <td>4.000</td>\n",
       "      <td>1782115.520</td>\n",
       "      <td>2.000</td>\n",
       "    </tr>\n",
       "    <tr>\n",
       "      <th>50%</th>\n",
       "      <td>29.000</td>\n",
       "      <td>4.000</td>\n",
       "      <td>2329246.376</td>\n",
       "      <td>4.000</td>\n",
       "    </tr>\n",
       "    <tr>\n",
       "      <th>75%</th>\n",
       "      <td>31.000</td>\n",
       "      <td>5.000</td>\n",
       "      <td>2753169.612</td>\n",
       "      <td>4.000</td>\n",
       "    </tr>\n",
       "    <tr>\n",
       "      <th>max</th>\n",
       "      <td>118.000</td>\n",
       "      <td>8.000</td>\n",
       "      <td>12821282.030</td>\n",
       "      <td>4.000</td>\n",
       "    </tr>\n",
       "  </tbody>\n",
       "</table>\n",
       "</div>"
      ],
      "text/plain": [
       "           Age  No. of Family members  Annual Income  \\\n",
       "count 1000.000               1000.000       1000.000   \n",
       "mean    31.800                  4.118    2258341.824   \n",
       "std     11.295                  1.470     999355.758   \n",
       "min     15.000                  0.000    -376150.863   \n",
       "25%     26.000                  4.000    1782115.520   \n",
       "50%     29.000                  4.000    2329246.376   \n",
       "75%     31.000                  5.000    2753169.612   \n",
       "max    118.000                  8.000   12821282.030   \n",
       "\n",
       "       Preference for wheels in EV  \n",
       "count                     1000.000  \n",
       "mean                         3.349  \n",
       "std                          0.888  \n",
       "min                          2.000  \n",
       "25%                          2.000  \n",
       "50%                          4.000  \n",
       "75%                          4.000  \n",
       "max                          4.000  "
      ]
     },
     "execution_count": 124,
     "metadata": {},
     "output_type": "execute_result"
    }
   ],
   "source": [
    "df.describe()"
   ]
  },
  {
   "cell_type": "markdown",
   "id": "329ed2ba",
   "metadata": {},
   "source": [
    "#### Data Visualization"
   ]
  },
  {
   "cell_type": "code",
   "execution_count": 10,
   "id": "884babf2",
   "metadata": {
    "scrolled": false
   },
   "outputs": [
    {
     "data": {
      "image/png": "[encoded data removed]",
      "text/plain": [
       "<Figure size 432x288 with 1 Axes>"
      ]
     },
     "metadata": {
      "needs_background": "light"
     },
     "output_type": "display_data"
    }
   ],
   "source": [
    "sns.countplot(x ='Marital Status', hue = 'How much money could you spend on an Electronic vehicle?',  data = df, palette = 'Set')\n",
    "plt.legend(loc='center right')\n",
    "plt.show()"
   ]
  },
  {
   "cell_type": "code",
   "execution_count": 12,
   "id": "af98fdf8",
   "metadata": {},
   "outputs": [
    {
     "data": {
      "image/png": "[encoded data removed]",
      "text/plain": [
       "<Figure size 432x288 with 1 Axes>"
      ]
     },
     "metadata": {
      "needs_background": "light"
     },
     "output_type": "display_data"
    }
   ],
   "source": [
    "sns.countplot(x='Education', data=df, palette='Set2')\n",
    "plt.xticks(rotation=45)\n",
    "plt.show()\n"
   ]
  },
  {
   "cell_type": "code",
   "execution_count": 13,
   "id": "3c89d2a7",
   "metadata": {},
   "outputs": [
    {
     "data": {
      "image/png": "[encoded data removed]",
      "text/plain": [
       "<Figure size 432x288 with 1 Axes>"
      ]
     },
     "metadata": {
      "needs_background": "light"
     },
     "output_type": "display_data"
    }
   ],
   "source": [
    "sns.histplot(x='Age', data=df, bins=10, kde=True)\n",
    "plt.show()\n"
   ]
  },
  {
   "cell_type": "code",
   "execution_count": 14,
   "id": "f4af79f3",
   "metadata": {},
   "outputs": [
    {
     "data": {
      "image/png": "[encoded data removed]",
      "text/plain": [
       "<Figure size 432x288 with 1 Axes>"
      ]
     },
     "metadata": {
      "needs_background": "light"
     },
     "output_type": "display_data"
    }
   ],
   "source": [
    "sns.boxplot(x='Profession', y='Annual Income', data=df, palette='Set2')\n",
    "plt.xticks(rotation=45)\n",
    "plt.show()\n"
   ]
  },
  {
   "cell_type": "code",
   "execution_count": 18,
   "id": "5539c684",
   "metadata": {},
   "outputs": [
    {
     "data": {
      "image/png": "[encoded data removed]",
      "text/plain": [
       "<Figure size 432x288 with 1 Axes>"
      ]
     },
     "metadata": {},
     "output_type": "display_data"
    }
   ],
   "source": [
    "vehicle_counts = df['Which brand of vehicle do you currently own?'].value_counts()\n",
    "plt.pie(vehicle_counts, labels=vehicle_counts.index, autopct='%1.1f%%', startangle=90)\n",
    "plt.axis('equal')\n",
    "plt.tight_layout()\n",
    "plt.show()\n"
   ]
  },
  {
   "cell_type": "code",
   "execution_count": 19,
   "id": "73ee2bd5",
   "metadata": {},
   "outputs": [
    {
     "data": {
      "image/png": "[encoded data removed]",
      "text/plain": [
       "<Figure size 432x288 with 1 Axes>"
      ]
     },
     "metadata": {
      "needs_background": "light"
     },
     "output_type": "display_data"
    }
   ],
   "source": [
    "import seaborn as sns\n",
    "import matplotlib.pyplot as plt\n",
    "\n",
    "vehicle_counts = df['Which brand of vehicle do you currently own?'].value_counts()\n",
    "sns.countplot(y='Which brand of vehicle do you currently own?', data=df, palette='Set2')\n",
    "plt.xlabel('Count')\n",
    "plt.ylabel('Vehicle Brand')\n",
    "plt.title('Vehicle Ownership')\n",
    "plt.show()\n"
   ]
  }
 ],
 "metadata": {
  "kernelspec": {
   "display_name": "Python 3",
   "language": "python",
   "name": "python3"
  },
  "language_info": {
   "codemirror_mode": {
    "name": "ipython",
    "version": 3
   },
   "file_extension": ".py",
   "mimetype": "text/x-python",
   "name": "python",
   "nbconvert_exporter": "python",
   "pygments_lexer": "ipython3",
   "version": "3.8.8"
  }
 },
 "nbformat": 4,
 "nbformat_minor": 5
}
