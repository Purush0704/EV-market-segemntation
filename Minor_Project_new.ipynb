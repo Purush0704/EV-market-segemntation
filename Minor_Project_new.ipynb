{
  "nbformat": 4,
  "nbformat_minor": 0,
  "metadata": {
    "colab": {
      "provenance": [],
      "authorship_tag": "ABX9TyOhEGkbCSHyU79BEx1MELmz",
      "include_colab_link": true
    },
    "kernelspec": {
      "name": "python3",
      "display_name": "Python 3"
    },
    "language_info": {
      "name": "python"
    }
  },
  "cells": [
    {
      "cell_type": "markdown",
      "metadata": {
        "id": "view-in-github",
        "colab_type": "text"
      },
      "source": [
        "<a href=\"https://colab.research.google.com/github/Purush0704/EV-market-segmentation/blob/main/Minor_Project_new.ipynb\" target=\"_parent\"><img src=\"https://colab.research.google.com/assets/colab-badge.svg\" alt=\"Open In Colab\"/></a>"
      ]
    },
    {
      "cell_type": "code",
      "execution_count": 5,
      "metadata": {
        "id": "AInk7WIsN-Ug"
      },
      "outputs": [],
      "source": [
        "import numpy as np\n",
        "import matplotlib.pyplot as plt\n",
        "import tensorflow as tf\n",
        "from tensorflow.keras import layers, models\n",
        "from sklearn.model_selection import train_test_split\n",
        "from tensorflow.keras.preprocessing.image import ImageDataGenerator"
      ]
    },
    {
      "cell_type": "code",
      "source": [
        "# Define the data directory\n",
        "data_dir = \"/content/drive/MyDrive/Dataset/train\""
      ],
      "metadata": {
        "id": "ocqz3eCyjZwn"
      },
      "execution_count": 7,
      "outputs": []
    },
    {
      "cell_type": "markdown",
      "source": [
        "Data preprocessing"
      ],
      "metadata": {
        "id": "THcNtE44kpQM"
      }
    },
    {
      "cell_type": "code",
      "source": [
        "# Set the image dimensions and batch size\n",
        "img_height, img_width = 224, 224\n",
        "batch_size = 32\n",
        "\n",
        "# Create an ImageDataGenerator for data loading and augmentation\n",
        "datagen = ImageDataGenerator(\n",
        "    rescale=1./255,            # Normalize pixel values to [0, 1]\n",
        "    validation_split=0.2,      # Split the data into training and validation sets\n",
        "    rotation_range=20,         # Augment data with random rotations\n",
        "    width_shift_range=0.2,     # Augment data with random horizontal shifts\n",
        "    height_shift_range=0.2,    # Augment data with random vertical shifts\n",
        "    horizontal_flip=True,      # Augment data with random horizontal flips\n",
        "    shear_range=0.2,           # Augment data with random shearing\n",
        "    zoom_range=0.2             # Augment data with random zooming\n",
        ")\n",
        "\n",
        "# Load and preprocess the training dataset\n",
        "train_generator = datagen.flow_from_directory(\n",
        "    data_dir,\n",
        "    target_size=(img_height, img_width),\n",
        "    batch_size=batch_size,\n",
        "    class_mode='categorical',  # Change to 'binary' if you have 2 classes\n",
        "    subset='training'          # Specify that this is the training set\n",
        ")"
      ],
      "metadata": {
        "colab": {
          "base_uri": "https://localhost:8080/"
        },
        "id": "-8V91IMXj5zr",
        "outputId": "99f1d146-3336-46cb-ee2e-f4858f76cd96"
      },
      "execution_count": 8,
      "outputs": [
        {
          "output_type": "stream",
          "name": "stdout",
          "text": [
            "Found 11365 images belonging to 2 classes.\n"
          ]
        }
      ]
    },
    {
      "cell_type": "code",
      "source": [
        "model = models.Sequential()\n",
        "\n",
        "# Convolutional Layers\n",
        "model.add(layers.Conv2D(32, (3, 3), activation='relu', input_shape=(224, 224, 3)))\n",
        "model.add(layers.MaxPooling2D((2, 2)))\n",
        "model.add(layers.Conv2D(64, (3, 3), activation='relu'))\n",
        "model.add(layers.MaxPooling2D((2, 2)))\n",
        "\n",
        "# Flatten the output for fully connected layers\n",
        "model.add(layers.Flatten())\n",
        "\n",
        "# Fully Connected Layers\n",
        "model.add(layers.Dense(128, activation='relu'))\n",
        "model.add(layers.Dense(2, activation='softmax'))  # Replace num_classes with the number of classes in your dataset\n",
        "\n",
        "# Compile the model\n",
        "model.compile(optimizer='adam',\n",
        "              loss='categorical_crossentropy',  # Use 'binary_crossentropy' for 2 classes\n",
        "              metrics=['accuracy'])\n"
      ],
      "metadata": {
        "id": "QGiPQtrOjvyl"
      },
      "execution_count": 10,
      "outputs": []
    },
    {
      "cell_type": "code",
      "source": [
        "epochs = 10  # You can adjust the number of epochs based on your training needs\n",
        "\n",
        "history = model.fit(\n",
        "    train_generator,\n",
        "    epochs=epochs\n",
        ")\n"
      ],
      "metadata": {
        "colab": {
          "base_uri": "https://localhost:8080/"
        },
        "id": "8-wizInRlF7A",
        "outputId": "6f6a4c44-c12d-4b02-880b-987c445384f0"
      },
      "execution_count": null,
      "outputs": [
        {
          "output_type": "stream",
          "name": "stdout",
          "text": [
            "Epoch 1/10\n",
            " 72/356 [=====>........................] - ETA: 38:53 - loss: 0.5279 - accuracy: 0.9041"
          ]
        }
      ]
    }
  ]
}